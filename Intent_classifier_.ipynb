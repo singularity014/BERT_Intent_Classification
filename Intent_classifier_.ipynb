{
  "nbformat": 4,
  "nbformat_minor": 0,
  "metadata": {
    "colab": {
      "name": "Intent_classifier_.ipynb",
      "provenance": [],
      "authorship_tag": "ABX9TyMYuDLWuZ2kMV4RwA2cNx7A",
      "include_colab_link": true
    },
    "kernelspec": {
      "name": "python3",
      "display_name": "Python 3"
    }
  },
  "cells": [
    {
      "cell_type": "markdown",
      "metadata": {
        "id": "view-in-github",
        "colab_type": "text"
      },
      "source": [
        "<a href=\"https://colab.research.google.com/github/singularity014/BERT_Intent_Classification/blob/master/Intent_classifier_.ipynb\" target=\"_parent\"><img src=\"https://colab.research.google.com/assets/colab-badge.svg\" alt=\"Open In Colab\"/></a>"
      ]
    },
    {
      "cell_type": "markdown",
      "metadata": {
        "id": "0Uyhv7_h-Ted",
        "colab_type": "text"
      },
      "source": [
        "# Intent Classification\n",
        "\n",
        "Prolem statement :\n",
        " -  Given a setence, predict the type of intent.\n",
        " - The data contains various user queries   categorized into seven intents.\n",
        "\n"
      ]
    },
    {
      "cell_type": "markdown",
      "metadata": {
        "id": "jaymFc6C-_50",
        "colab_type": "text"
      },
      "source": [
        "# Data\n",
        "\n",
        "Here are the intents:\n",
        "\n",
        "- SearchCreativeWork (e.g. Find me the I, Robot television show)\n",
        "- GetWeather (e.g. Is it windy in Boston, MA right now?)\n",
        "- BookRestaurant (e.g. I want to book a highly rated restaurant for me and my boyfriend tomorrow night)\n",
        "- PlayMusic (e.g. Play the last track from Beyoncé off Spotify)\n",
        "- AddToPlaylist (e.g. Add Diamonds to my roadtrip playlist)\n",
        "- RateBook (e.g. Give 6 stars to Of Mice and Men)\n",
        "- SearchScreeningEvent (e.g. Check the showtimes for Wonder Woman in Paris)"
      ]
    },
    {
      "cell_type": "markdown",
      "metadata": {
        "id": "BByTR5Qf_lce",
        "colab_type": "text"
      },
      "source": [
        "# New section"
      ]
    }
  ]
}